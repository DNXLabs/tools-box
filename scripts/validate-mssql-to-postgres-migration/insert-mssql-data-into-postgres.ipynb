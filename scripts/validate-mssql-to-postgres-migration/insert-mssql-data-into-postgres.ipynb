{
 "cells": [
  {
   "cell_type": "code",
   "execution_count": 385,
   "source": [
    "import psycopg2\n",
    "import pandas.io.sql as sqlio\n",
    "import pandas as pd\n",
    "from io import StringIO\n",
    "import numpy as np\n",
    "import pyodbc\n",
    "import uuid\n",
    "import chardet\n",
    "import struct"
   ],
   "outputs": [],
   "metadata": {}
  },
  {
   "cell_type": "code",
   "execution_count": 386,
   "source": [
    "conn = psycopg2.connect(\n",
    "    host='host-name',\n",
    "    database='postgres',\n",
    "    user='postgres',\n",
    "    password='my-password',\n",
    ")\n",
    "\n",
    "conn_mssql = pyodbc.connect('DSN=MSSQLServerDatabase;UID=admin;PWD=my-password')\n",
    "\n",
    "mssql_db_name = 'master'\n",
    "\n",
    "pg_db_name = 'master_dbo'\n",
    "\n",
    "\n",
    "def handle_datetimeoffset(dto_value):\n",
    "    # ref: https://github.com/mkleehammer/pyodbc/issues/134#issuecomment-281739794\n",
    "    tup = struct.unpack(\"<6hI2h\", dto_value)  # e.g., (2017, 3, 16, 10, 35, 18, 0, -6, 0)\n",
    "    tweaked = [tup[i] // 100 if i == 6 else tup[i] for i in range(len(tup))]\n",
    "    return \"{:04d}-{:02d}-{:02d} {:02d}:{:02d}:{:02d}.{:07d} {:+03d}:{:02d}\".format(*tweaked)\n",
    "conn_mssql.add_output_converter(-155, handle_datetimeoffset)"
   ],
   "outputs": [],
   "metadata": {}
  },
  {
   "cell_type": "code",
   "execution_count": 387,
   "source": [
    "def get_mssql_column_types(par_table_name, par_conn_mssql):\n",
    "    global mssql_db_name\n",
    "    cursor = conn_mssql.cursor()\n",
    "    cursor.execute(f\"USE {mssql_db_name}\")\n",
    "    cursor.close()\n",
    "    sql = '''\n",
    "        SELECT COLUMN_NAME, DATA_TYPE\n",
    "        FROM INFORMATION_SCHEMA.COLUMNS\n",
    "        where TABLE_SCHEMA = 'dbo'\n",
    "        and TABLE_CATALOG = \\'''' + mssql_db_name + '''\\'\n",
    "        and TABLE_NAME = \\'''' + par_table_name + '''\\'\n",
    "        order by ORDINAL_POSITION \n",
    "        '''\n",
    "    data = sqlio.read_sql_query(sql, par_conn_mssql)\n",
    "    return dict(zip(data.COLUMN_NAME.str.lower(), data.DATA_TYPE))\n",
    "\n",
    "def get_pg_column_types(par_table_name, par_conn):\n",
    "    global pg_db_name\n",
    "    sql = '''\n",
    "        SELECT column_name, data_type\n",
    "        FROM information_schema.columns\n",
    "        where table_catalog = 'postgres'\n",
    "        and table_schema = \\'''' + pg_db_name + '''\\'\n",
    "        and table_name = \\'''' + par_table_name.lower() + '''\\'\n",
    "        order by ordinal_position \n",
    "        '''\n",
    "    data = sqlio.read_sql_query(sql, par_conn)\n",
    "    return dict(zip(data.column_name.str.lower(), data.data_type))\n",
    "\n",
    "def print_table_column_types(par_table_name, par_conn, par_conn_mssql):\n",
    "    global mssql_db_name, pg_db_name\n",
    "    cursor = conn_mssql.cursor()\n",
    "    cursor.execute(f\"USE {mssql_db_name}\")\n",
    "    cursor.close()\n",
    "    sql = '''\n",
    "        SELECT COLUMN_NAME, IS_NULLABLE , DATA_TYPE , CHARACTER_MAXIMUM_LENGTH , COLUMN_DEFAULT\n",
    "        FROM INFORMATION_SCHEMA.COLUMNS\n",
    "        where TABLE_SCHEMA = 'dbo'\n",
    "        and TABLE_CATALOG = \\'''' + mssql_db_name + '''\\'\n",
    "        and TABLE_NAME = \\'''' + par_table_name + '''\\'\n",
    "        order by ORDINAL_POSITION \n",
    "        '''\n",
    "    data = sqlio.read_sql_query(sql, par_conn_mssql)\n",
    "    print('SQL SERVER Table info: \\n', data, '\\n')\n",
    "    sql = '''\n",
    "        select column_name, is_nullable, data_type, character_maximum_length , column_default\n",
    "        from information_schema.columns\n",
    "        where table_catalog = 'postgres'\n",
    "        and table_schema = \\'''' + pg_db_name + '''\\'\n",
    "        and table_name = \\'''' + par_table_name.lower() + '''\\'\n",
    "        order by ordinal_position\n",
    "        '''\n",
    "    data = sqlio.read_sql_query(sql, par_conn)\n",
    "    print('PostgreSQL Table info: \\n', data, '\\n')\n",
    "    \n",
    "def change_bit_type_column(par_table_name, par_conn, par_conn_mssql):\n",
    "    global mssql_db_name, pg_db_name\n",
    "    cursor = conn_mssql.cursor()\n",
    "    cursor.execute(f\"USE {mssql_db_name}\")\n",
    "    cursor.close()\n",
    "    sql = '''\n",
    "        SELECT COLUMN_NAME, IS_NULLABLE , DATA_TYPE , CHARACTER_MAXIMUM_LENGTH , COLUMN_DEFAULT\n",
    "        FROM INFORMATION_SCHEMA.COLUMNS\n",
    "        where TABLE_SCHEMA = 'dbo'\n",
    "        and TABLE_CATALOG = \\'''' + mssql_db_name + '''\\'\n",
    "        and TABLE_NAME = \\'''' + par_table_name + '''\\'\n",
    "        order by ORDINAL_POSITION \n",
    "        '''\n",
    "    data = sqlio.read_sql_query(sql, par_conn_mssql)\n",
    "    for i,row in data.iterrows():\n",
    "        if row['DATA_TYPE'] == 'bit':            \n",
    "            col_name = row['COLUMN_NAME'].lower()\n",
    "            print(f\"Trying to change table '{par_table_name}' column '{col_name}' type to 'bool'\")\n",
    "            par_table_name.lower()            \n",
    "            sql_drop_default = 'select 1'\n",
    "            sql_set_default = 'select 1'\n",
    "            if row['COLUMN_DEFAULT'] is not None: \n",
    "                sql_drop_default = f\"ALTER TABLE {pg_db_name}.{par_table_name.lower()} ALTER COLUMN {col_name} DROP DEFAULT;\"\n",
    "                default_value = row['COLUMN_DEFAULT'].replace('(','').replace(')','')\n",
    "                if default_value == '0':\n",
    "                    default_value = 'False'\n",
    "                else:\n",
    "                    default_value = 'True'\n",
    "                sql_set_default = f\"ALTER TABLE {pg_db_name}.{par_table_name.lower()} ALTER COLUMN {col_name} SET DEFAULT {default_value};\"\n",
    "            # Helper function from https://pretius.com/postgresql-stop-worrying-about-table-and-view-dependencies/\n",
    "            # https://gist.github.com/briandignan/03ef42e78434658cf27f052e2f0798e8\n",
    "            sql_pre = f\"select deps_save_and_drop_dependencies('{pg_db_name}', '{par_table_name.lower()}');\"\n",
    "            sql = f\"ALTER TABLE {pg_db_name}.{par_table_name.lower()} ALTER COLUMN {col_name} TYPE bool USING cast ({col_name} as integer)=1;\"\n",
    "            sql_fix_numeric_in_view = '''\n",
    "                with dsd_new as (\n",
    "                SELECT deps_id, REPLACE(deps_ddl_to_run, '= (0)::numeric', 'is false' ) as deps_ddl_to_run_new\n",
    "                FROM public.deps_saved_ddl\n",
    "                WHERE deps_ddl_to_run like '%(0)::numeric%'\n",
    "                )\n",
    "                update deps_saved_ddl as dsd_old\n",
    "                set deps_ddl_to_run = dsd_new.deps_ddl_to_run_new\n",
    "                from dsd_new\n",
    "                where dsd_old.deps_id = dsd_new.deps_id\n",
    "            '''\n",
    "            sql_post = f\"select deps_restore_dependencies('{pg_db_name}', '{par_table_name.lower()}');\"\n",
    "            cursor = par_conn.cursor()\n",
    "            try:      \n",
    "                cursor.execute(sql_pre)\n",
    "                cursor.execute(sql_drop_default)\n",
    "                cursor.execute(sql)\n",
    "                cursor.execute(sql_set_default)\n",
    "                cursor.execute(sql_fix_numeric_in_view)\n",
    "                cursor.execute(sql_post)\n",
    "                conn.commit()\n",
    "                print(f\"Changed table '{par_table_name}' column '{col_name}' type to 'bool'\")\n",
    "                cursor.close()\n",
    "            except (Exception, psycopg2.DatabaseError) as error:\n",
    "                print(\"Error: %s\" % error)\n",
    "                conn.rollback()\n",
    "                cursor.close()"
   ],
   "outputs": [],
   "metadata": {}
  },
  {
   "cell_type": "code",
   "execution_count": 388,
   "source": [
    "cursor = conn_mssql.cursor()\n",
    "cursor.execute(f\"USE {mssql_db_name}\")\n",
    "cursor.close()\n",
    "conn_mssql.commit()\n",
    "sql = '''\n",
    "SELECT TABLE_NAME, TABLE_CATALOG\n",
    "FROM INFORMATION_SCHEMA.TABLES\n",
    "where TABLE_SCHEMA = 'dbo'\n",
    "and TABLE_CATALOG = \\'''' + mssql_db_name + '''\\'\n",
    "and TABLE_TYPE = 'BASE TABLE'\n",
    "order by 1\n",
    "'''\n",
    "table_data = sqlio.read_sql_query(sql, conn_mssql)"
   ],
   "outputs": [],
   "metadata": {}
  },
  {
   "cell_type": "code",
   "execution_count": null,
   "source": [
    "global_count = {\n",
    "    'work':0,\n",
    "    'did not work':0,\n",
    "    'empty':0,\n",
    "    'does not exist in pg':0,\n",
    "    'different columns':0,\n",
    "}\n",
    "\n",
    "for i,table in table_data.iterrows():\n",
    "    # if i < 334:\n",
    "    #     continue\n",
    "    \n",
    "    table_name = table['TABLE_NAME']\n",
    "    print(i, table_name)\n",
    "    \n",
    "    # Fetch data from MSSQL\n",
    "    sql = '''\n",
    "    select top 10 * \n",
    "    from ''' + mssql_db_name + '''.dbo.[''' + table_name + ''']\n",
    "    '''\n",
    "    data_mssql = sqlio.read_sql_query(sql, conn_mssql)\n",
    "    \n",
    "    if len(data_mssql) == 0:\n",
    "        global_count['empty'] += 1\n",
    "        continue\n",
    "    \n",
    "    # Copy data to PostgreSQL\n",
    "    pg_table_name = table_name.lower()\n",
    "    buffer = StringIO()\n",
    "    data_buff = data_mssql.copy()\n",
    "    data_buff.columns = data_buff.columns.str.lower()\n",
    "    # If the sable has a Generated column, here delete the conlumn from the DataFrame\n",
    "    if 'company_id' in data_buff.columns and table_name != 'WidgetSection_Pre_UpMigration':\n",
    "        del data_buff['company_id']\n",
    "    if 'diagram_id' in data_buff.columns:\n",
    "        del data_buff['diagram_id']\n",
    "    if table_name in ['WorkItemName', 'LookupField', 'Country']:\n",
    "        del data_buff['sortorder']\n",
    "    \n",
    "    mssql_col_type = get_mssql_column_types(table_name, conn_mssql)\n",
    "    pg_col_type = get_pg_column_types(table_name, conn)\n",
    "    if len(pg_col_type) != len(mssql_col_type):\n",
    "        print('Error: different columns between table')\n",
    "        global_count['different columns'] += 1\n",
    "        continue\n",
    "    \n",
    "    has_byte_column = False\n",
    "    for col in data_buff:\n",
    "        # If there is bytes type column, convert to quoted bytes\n",
    "        if type(data_buff[col][0]) == bytes:\n",
    "            has_byte_column = True\n",
    "            # data_buff[col] = data_buff[col].apply(lambda x: psycopg2.Binary(x).getquoted())\n",
    "        # Replace \\r\\n to \\n\n",
    "        if type(data_buff[col][0]) == str:            \n",
    "            data_buff[col] = data_buff[col].replace(to_replace=\"\\n\", value=\"\\\\n\", regex=True)\n",
    "            data_buff[col] = data_buff[col].replace(to_replace=\"\\r\", value=\"\\\\r\", regex=True)\n",
    "        if mssql_col_type[col] == 'int' or mssql_col_type[col] == 'bigint':\n",
    "            data_buff[col] = data_buff[col].apply(lambda x: None if pd.isnull(x) else str(int(x)))\n",
    "        if mssql_col_type[col] == 'datetime':\n",
    "            data_buff[col] = data_buff[col].astype(object).where(data_buff[col].notnull(), None)\n",
    "            \n",
    "            \n",
    "    #data_buff = data_buff.fillna(value=np.nan)\n",
    "    \n",
    "    # Saves the data for debug purpose\n",
    "    #data_buff.to_csv('mssql.csv', index = False)\n",
    "    \n",
    "    # Check which CSV separator to use\n",
    "    contains_tab = np.column_stack([data_buff[col].astype(str).str.contains(r\"\\t\", na=False) for col in data_buff]).any()\n",
    "    csv_separator = '\\t'\n",
    "    if contains_tab:\n",
    "        csv_separator = ','\n",
    "            \n",
    "    data_buff.to_csv(buffer, index = False, header=False, sep=csv_separator, line_terminator = '\\r')\n",
    "    buffer.seek(0)\n",
    "    cursor = conn.cursor()\n",
    "    table_exist_in_pg = False\n",
    "    try:\n",
    "        cursor.execute(f'TRUNCATE {pg_db_name}.' + pg_table_name)\n",
    "        conn.commit()\n",
    "        table_exist_in_pg = True\n",
    "    except (Exception, psycopg2.DatabaseError) as error:\n",
    "        print(\"Error: %s\" % error)\n",
    "        conn.rollback()\n",
    "        cursor.close()\n",
    "        global_count['does not exist in pg'] += 1\n",
    "    if table_exist_in_pg:\n",
    "        try:\n",
    "            if False:#(not has_byte_column):\n",
    "                cursor.copy_from(buffer, f\"{pg_db_name}.\" + pg_table_name, sep=csv_separator, null='NULL', columns=data_buff.columns)\n",
    "                conn.commit()\n",
    "            else:\n",
    "                col_list = data_buff.rename(columns = {'order':'\\\"Order\\\"'}).columns\n",
    "                for i,row in data_buff.iterrows():\n",
    "                    sql_insert = f\"insert into {pg_db_name}.\" + pg_table_name + \"(\" \\\n",
    "                        + ', '.join(col_list.to_list()) + \") VALUES (\" \\\n",
    "                        + ', '.join(np.repeat('%s', len(data_buff.columns))) + \");\"                    \n",
    "                    cursor.execute(sql_insert, tuple(row))\n",
    "                    conn.commit()\n",
    "            global_count['work'] += 1\n",
    "        except (Exception, psycopg2.DatabaseError) as error:\n",
    "            print(\"Error: %s\" % error)\n",
    "            conn.rollback()\n",
    "            cursor.close()\n",
    "            if str(error).__contains__('invalid input syntax for type numeric') or \\\n",
    "                str(error).__contains__('is of type numeric but expression is of type boolean'):\n",
    "                change_bit_type_column(table_name, conn, conn_mssql)\n",
    "            #print_table_column_types(table_name, conn, conn_mssql)\n",
    "            print(sql_insert, tuple(row))\n",
    "            global_count['did not work'] += 1\n",
    "            break\n",
    "        \n",
    "        # Compare data between MSSQL and PostgreSQL\n",
    "        sql_fetch = '''\n",
    "        select * \n",
    "        from ''' + pg_db_name + '''.''' + pg_table_name + '''\n",
    "        limit 10\n",
    "        '''\n",
    "        data2 = sqlio.read_sql_query(sql_fetch, conn)\n",
    "        data_buff = data_mssql.copy()\n",
    "        data_buff.columns = data_buff.columns.str.lower()\n",
    "        is_table_equal = True\n",
    "        column_equallity_report = ''\n",
    "        # If the sable has a Generated column, here delete the conlumn from the DataFrame\n",
    "        if table_name in ['WorkItemName', 'LookupField', 'Country']:\n",
    "            del data_buff['sortorder']\n",
    "            del data2['sortorder']\n",
    "        if table_name in ['sysdiagrams']:\n",
    "            del data_buff['diagram_id']\n",
    "            del data2['diagram_id']\n",
    "        for column in data_buff.columns:\n",
    "            if(type(data_buff[column][0]) == uuid.UUID):\n",
    "                is_equal = data2[column].equals(data_buff[column].astype(str))\n",
    "            elif(type(data_buff[column][0]) == bytes):\n",
    "                is_equal = data2[column].apply(lambda x: bytes(x)).equals(data_buff[column])\n",
    "            elif column != 'order' and type(data2[column][0]) == pd._libs.tslibs.timestamps.Timestamp and type(data_buff[column][0]) == str:\n",
    "                is_equal = data2[column].apply(lambda x: x.strftime('%Y-%m-%d %H:%M:%S'))\\\n",
    "                    .equals(data_buff[column].apply(lambda x: None if pd.isnull(x) else x.split('.')[0]))\n",
    "            elif mssql_col_type[column] == 'uniqueidentifier':\n",
    "                is_equal = data2[column].equals(data_buff[column].str.lower())\n",
    "            else:\n",
    "                if column != 'order':\n",
    "                    is_equal = data2[column].equals(data_buff[column])\n",
    "                else:\n",
    "                    is_equal = data2['Order'].equals(data_buff[column])\n",
    "            if not is_equal:\n",
    "                is_equal = (data_buff[column].astype(str) == data2[column].astype(str)).all()\n",
    "            column_equallity_report += 'Column: ' + column + ' ' +  str(type(data_buff[column][0])) + ' ' + str(is_equal) + \"\\n\"\n",
    "            if not is_equal:\n",
    "                is_table_equal = False\n",
    "        if not is_table_equal:\n",
    "            print(i, table_name)\n",
    "            print(column_equallity_report)\n",
    "            #print_table_column_types(table_name, conn, conn_mssql)\n",
    "            break\n",
    "\n",
    "    # if table_name == 'AccessTicket':\n",
    "    #     break\n",
    "\n",
    "    # if i == 10:\n",
    "    #     break\n",
    "    \n",
    "global_count"
   ],
   "outputs": [],
   "metadata": {}
  },
  {
   "cell_type": "code",
   "execution_count": 394,
   "source": [
    "import plotly.express as px\n",
    "\n",
    "df = pd.DataFrame(list(global_count.items()),columns = ['Type','Count'])\n",
    "\n",
    "\n",
    "fig = px.bar(df, x=\"Type\", y=\"Count\",\n",
    "             barmode='group',\n",
    "             height=400,\n",
    "             text=df[\"Count\"],\n",
    "             )\n",
    "\n",
    "fig.update_layout(\n",
    "    title=\"Summary of MSSQL Table's data migrated to PostgreSQL\",\n",
    "    xaxis_title=\"Result type\",\n",
    "    yaxis_title=\"Number of Tables\",\n",
    "    )\n",
    "    \n",
    "fig.show()"
   ],
   "outputs": [
    {
     "output_type": "display_data",
     "data": {
      "application/vnd.plotly.v1+json": {
       "config": {
        "plotlyServerURL": "https://plot.ly"
       },
       "data": [
        {
         "alignmentgroup": "True",
         "hovertemplate": "Type=%{x}<br>Count=%{text}<extra></extra>",
         "legendgroup": "",
         "marker": {
          "color": "#636efa"
         },
         "name": "",
         "offsetgroup": "",
         "orientation": "v",
         "showlegend": false,
         "text": [
          2,
          1,
          0,
          0,
          1
         ],
         "textposition": "auto",
         "type": "bar",
         "x": [
          "work",
          "did not work",
          "empty",
          "does not exist in pg",
          "different columns"
         ],
         "xaxis": "x",
         "y": [
          2,
          1,
          0,
          0,
          1
         ],
         "yaxis": "y"
        }
       ],
       "layout": {
        "barmode": "group",
        "height": 400,
        "legend": {
         "tracegroupgap": 0
        },
        "margin": {
         "t": 60
        },
        "template": {
         "data": {
          "bar": [
           {
            "error_x": {
             "color": "#2a3f5f"
            },
            "error_y": {
             "color": "#2a3f5f"
            },
            "marker": {
             "line": {
              "color": "#E5ECF6",
              "width": 0.5
             }
            },
            "type": "bar"
           }
          ],
          "barpolar": [
           {
            "marker": {
             "line": {
              "color": "#E5ECF6",
              "width": 0.5
             }
            },
            "type": "barpolar"
           }
          ],
          "carpet": [
           {
            "aaxis": {
             "endlinecolor": "#2a3f5f",
             "gridcolor": "white",
             "linecolor": "white",
             "minorgridcolor": "white",
             "startlinecolor": "#2a3f5f"
            },
            "baxis": {
             "endlinecolor": "#2a3f5f",
             "gridcolor": "white",
             "linecolor": "white",
             "minorgridcolor": "white",
             "startlinecolor": "#2a3f5f"
            },
            "type": "carpet"
           }
          ],
          "choropleth": [
           {
            "colorbar": {
             "outlinewidth": 0,
             "ticks": ""
            },
            "type": "choropleth"
           }
          ],
          "contour": [
           {
            "colorbar": {
             "outlinewidth": 0,
             "ticks": ""
            },
            "colorscale": [
             [
              0,
              "#0d0887"
             ],
             [
              0.1111111111111111,
              "#46039f"
             ],
             [
              0.2222222222222222,
              "#7201a8"
             ],
             [
              0.3333333333333333,
              "#9c179e"
             ],
             [
              0.4444444444444444,
              "#bd3786"
             ],
             [
              0.5555555555555556,
              "#d8576b"
             ],
             [
              0.6666666666666666,
              "#ed7953"
             ],
             [
              0.7777777777777778,
              "#fb9f3a"
             ],
             [
              0.8888888888888888,
              "#fdca26"
             ],
             [
              1,
              "#f0f921"
             ]
            ],
            "type": "contour"
           }
          ],
          "contourcarpet": [
           {
            "colorbar": {
             "outlinewidth": 0,
             "ticks": ""
            },
            "type": "contourcarpet"
           }
          ],
          "heatmap": [
           {
            "colorbar": {
             "outlinewidth": 0,
             "ticks": ""
            },
            "colorscale": [
             [
              0,
              "#0d0887"
             ],
             [
              0.1111111111111111,
              "#46039f"
             ],
             [
              0.2222222222222222,
              "#7201a8"
             ],
             [
              0.3333333333333333,
              "#9c179e"
             ],
             [
              0.4444444444444444,
              "#bd3786"
             ],
             [
              0.5555555555555556,
              "#d8576b"
             ],
             [
              0.6666666666666666,
              "#ed7953"
             ],
             [
              0.7777777777777778,
              "#fb9f3a"
             ],
             [
              0.8888888888888888,
              "#fdca26"
             ],
             [
              1,
              "#f0f921"
             ]
            ],
            "type": "heatmap"
           }
          ],
          "heatmapgl": [
           {
            "colorbar": {
             "outlinewidth": 0,
             "ticks": ""
            },
            "colorscale": [
             [
              0,
              "#0d0887"
             ],
             [
              0.1111111111111111,
              "#46039f"
             ],
             [
              0.2222222222222222,
              "#7201a8"
             ],
             [
              0.3333333333333333,
              "#9c179e"
             ],
             [
              0.4444444444444444,
              "#bd3786"
             ],
             [
              0.5555555555555556,
              "#d8576b"
             ],
             [
              0.6666666666666666,
              "#ed7953"
             ],
             [
              0.7777777777777778,
              "#fb9f3a"
             ],
             [
              0.8888888888888888,
              "#fdca26"
             ],
             [
              1,
              "#f0f921"
             ]
            ],
            "type": "heatmapgl"
           }
          ],
          "histogram": [
           {
            "marker": {
             "colorbar": {
              "outlinewidth": 0,
              "ticks": ""
             }
            },
            "type": "histogram"
           }
          ],
          "histogram2d": [
           {
            "colorbar": {
             "outlinewidth": 0,
             "ticks": ""
            },
            "colorscale": [
             [
              0,
              "#0d0887"
             ],
             [
              0.1111111111111111,
              "#46039f"
             ],
             [
              0.2222222222222222,
              "#7201a8"
             ],
             [
              0.3333333333333333,
              "#9c179e"
             ],
             [
              0.4444444444444444,
              "#bd3786"
             ],
             [
              0.5555555555555556,
              "#d8576b"
             ],
             [
              0.6666666666666666,
              "#ed7953"
             ],
             [
              0.7777777777777778,
              "#fb9f3a"
             ],
             [
              0.8888888888888888,
              "#fdca26"
             ],
             [
              1,
              "#f0f921"
             ]
            ],
            "type": "histogram2d"
           }
          ],
          "histogram2dcontour": [
           {
            "colorbar": {
             "outlinewidth": 0,
             "ticks": ""
            },
            "colorscale": [
             [
              0,
              "#0d0887"
             ],
             [
              0.1111111111111111,
              "#46039f"
             ],
             [
              0.2222222222222222,
              "#7201a8"
             ],
             [
              0.3333333333333333,
              "#9c179e"
             ],
             [
              0.4444444444444444,
              "#bd3786"
             ],
             [
              0.5555555555555556,
              "#d8576b"
             ],
             [
              0.6666666666666666,
              "#ed7953"
             ],
             [
              0.7777777777777778,
              "#fb9f3a"
             ],
             [
              0.8888888888888888,
              "#fdca26"
             ],
             [
              1,
              "#f0f921"
             ]
            ],
            "type": "histogram2dcontour"
           }
          ],
          "mesh3d": [
           {
            "colorbar": {
             "outlinewidth": 0,
             "ticks": ""
            },
            "type": "mesh3d"
           }
          ],
          "parcoords": [
           {
            "line": {
             "colorbar": {
              "outlinewidth": 0,
              "ticks": ""
             }
            },
            "type": "parcoords"
           }
          ],
          "pie": [
           {
            "automargin": true,
            "type": "pie"
           }
          ],
          "scatter": [
           {
            "marker": {
             "colorbar": {
              "outlinewidth": 0,
              "ticks": ""
             }
            },
            "type": "scatter"
           }
          ],
          "scatter3d": [
           {
            "line": {
             "colorbar": {
              "outlinewidth": 0,
              "ticks": ""
             }
            },
            "marker": {
             "colorbar": {
              "outlinewidth": 0,
              "ticks": ""
             }
            },
            "type": "scatter3d"
           }
          ],
          "scattercarpet": [
           {
            "marker": {
             "colorbar": {
              "outlinewidth": 0,
              "ticks": ""
             }
            },
            "type": "scattercarpet"
           }
          ],
          "scattergeo": [
           {
            "marker": {
             "colorbar": {
              "outlinewidth": 0,
              "ticks": ""
             }
            },
            "type": "scattergeo"
           }
          ],
          "scattergl": [
           {
            "marker": {
             "colorbar": {
              "outlinewidth": 0,
              "ticks": ""
             }
            },
            "type": "scattergl"
           }
          ],
          "scattermapbox": [
           {
            "marker": {
             "colorbar": {
              "outlinewidth": 0,
              "ticks": ""
             }
            },
            "type": "scattermapbox"
           }
          ],
          "scatterpolar": [
           {
            "marker": {
             "colorbar": {
              "outlinewidth": 0,
              "ticks": ""
             }
            },
            "type": "scatterpolar"
           }
          ],
          "scatterpolargl": [
           {
            "marker": {
             "colorbar": {
              "outlinewidth": 0,
              "ticks": ""
             }
            },
            "type": "scatterpolargl"
           }
          ],
          "scatterternary": [
           {
            "marker": {
             "colorbar": {
              "outlinewidth": 0,
              "ticks": ""
             }
            },
            "type": "scatterternary"
           }
          ],
          "surface": [
           {
            "colorbar": {
             "outlinewidth": 0,
             "ticks": ""
            },
            "colorscale": [
             [
              0,
              "#0d0887"
             ],
             [
              0.1111111111111111,
              "#46039f"
             ],
             [
              0.2222222222222222,
              "#7201a8"
             ],
             [
              0.3333333333333333,
              "#9c179e"
             ],
             [
              0.4444444444444444,
              "#bd3786"
             ],
             [
              0.5555555555555556,
              "#d8576b"
             ],
             [
              0.6666666666666666,
              "#ed7953"
             ],
             [
              0.7777777777777778,
              "#fb9f3a"
             ],
             [
              0.8888888888888888,
              "#fdca26"
             ],
             [
              1,
              "#f0f921"
             ]
            ],
            "type": "surface"
           }
          ],
          "table": [
           {
            "cells": {
             "fill": {
              "color": "#EBF0F8"
             },
             "line": {
              "color": "white"
             }
            },
            "header": {
             "fill": {
              "color": "#C8D4E3"
             },
             "line": {
              "color": "white"
             }
            },
            "type": "table"
           }
          ]
         },
         "layout": {
          "annotationdefaults": {
           "arrowcolor": "#2a3f5f",
           "arrowhead": 0,
           "arrowwidth": 1
          },
          "autotypenumbers": "strict",
          "coloraxis": {
           "colorbar": {
            "outlinewidth": 0,
            "ticks": ""
           }
          },
          "colorscale": {
           "diverging": [
            [
             0,
             "#8e0152"
            ],
            [
             0.1,
             "#c51b7d"
            ],
            [
             0.2,
             "#de77ae"
            ],
            [
             0.3,
             "#f1b6da"
            ],
            [
             0.4,
             "#fde0ef"
            ],
            [
             0.5,
             "#f7f7f7"
            ],
            [
             0.6,
             "#e6f5d0"
            ],
            [
             0.7,
             "#b8e186"
            ],
            [
             0.8,
             "#7fbc41"
            ],
            [
             0.9,
             "#4d9221"
            ],
            [
             1,
             "#276419"
            ]
           ],
           "sequential": [
            [
             0,
             "#0d0887"
            ],
            [
             0.1111111111111111,
             "#46039f"
            ],
            [
             0.2222222222222222,
             "#7201a8"
            ],
            [
             0.3333333333333333,
             "#9c179e"
            ],
            [
             0.4444444444444444,
             "#bd3786"
            ],
            [
             0.5555555555555556,
             "#d8576b"
            ],
            [
             0.6666666666666666,
             "#ed7953"
            ],
            [
             0.7777777777777778,
             "#fb9f3a"
            ],
            [
             0.8888888888888888,
             "#fdca26"
            ],
            [
             1,
             "#f0f921"
            ]
           ],
           "sequentialminus": [
            [
             0,
             "#0d0887"
            ],
            [
             0.1111111111111111,
             "#46039f"
            ],
            [
             0.2222222222222222,
             "#7201a8"
            ],
            [
             0.3333333333333333,
             "#9c179e"
            ],
            [
             0.4444444444444444,
             "#bd3786"
            ],
            [
             0.5555555555555556,
             "#d8576b"
            ],
            [
             0.6666666666666666,
             "#ed7953"
            ],
            [
             0.7777777777777778,
             "#fb9f3a"
            ],
            [
             0.8888888888888888,
             "#fdca26"
            ],
            [
             1,
             "#f0f921"
            ]
           ]
          },
          "colorway": [
           "#636efa",
           "#EF553B",
           "#00cc96",
           "#ab63fa",
           "#FFA15A",
           "#19d3f3",
           "#FF6692",
           "#B6E880",
           "#FF97FF",
           "#FECB52"
          ],
          "font": {
           "color": "#2a3f5f"
          },
          "geo": {
           "bgcolor": "white",
           "lakecolor": "white",
           "landcolor": "#E5ECF6",
           "showlakes": true,
           "showland": true,
           "subunitcolor": "white"
          },
          "hoverlabel": {
           "align": "left"
          },
          "hovermode": "closest",
          "mapbox": {
           "style": "light"
          },
          "paper_bgcolor": "white",
          "plot_bgcolor": "#E5ECF6",
          "polar": {
           "angularaxis": {
            "gridcolor": "white",
            "linecolor": "white",
            "ticks": ""
           },
           "bgcolor": "#E5ECF6",
           "radialaxis": {
            "gridcolor": "white",
            "linecolor": "white",
            "ticks": ""
           }
          },
          "scene": {
           "xaxis": {
            "backgroundcolor": "#E5ECF6",
            "gridcolor": "white",
            "gridwidth": 2,
            "linecolor": "white",
            "showbackground": true,
            "ticks": "",
            "zerolinecolor": "white"
           },
           "yaxis": {
            "backgroundcolor": "#E5ECF6",
            "gridcolor": "white",
            "gridwidth": 2,
            "linecolor": "white",
            "showbackground": true,
            "ticks": "",
            "zerolinecolor": "white"
           },
           "zaxis": {
            "backgroundcolor": "#E5ECF6",
            "gridcolor": "white",
            "gridwidth": 2,
            "linecolor": "white",
            "showbackground": true,
            "ticks": "",
            "zerolinecolor": "white"
           }
          },
          "shapedefaults": {
           "line": {
            "color": "#2a3f5f"
           }
          },
          "ternary": {
           "aaxis": {
            "gridcolor": "white",
            "linecolor": "white",
            "ticks": ""
           },
           "baxis": {
            "gridcolor": "white",
            "linecolor": "white",
            "ticks": ""
           },
           "bgcolor": "#E5ECF6",
           "caxis": {
            "gridcolor": "white",
            "linecolor": "white",
            "ticks": ""
           }
          },
          "title": {
           "x": 0.05
          },
          "xaxis": {
           "automargin": true,
           "gridcolor": "white",
           "linecolor": "white",
           "ticks": "",
           "title": {
            "standoff": 15
           },
           "zerolinecolor": "white",
           "zerolinewidth": 2
          },
          "yaxis": {
           "automargin": true,
           "gridcolor": "white",
           "linecolor": "white",
           "ticks": "",
           "title": {
            "standoff": 15
           },
           "zerolinecolor": "white",
           "zerolinewidth": 2
          }
         }
        },
        "title": {
         "text": "Summary of MSSQL Table's data migrated to PostgreSQL"
        },
        "xaxis": {
         "anchor": "y",
         "domain": [
          0,
          1
         ],
         "title": {
          "text": "Result type"
         }
        },
        "yaxis": {
         "anchor": "x",
         "domain": [
          0,
          1
         ],
         "title": {
          "text": "Number of Tables"
         }
        }
       }
      }
     },
     "metadata": {}
    }
   ],
   "metadata": {}
  },
  {
   "cell_type": "markdown",
   "source": [
    "## Debug if data is the same on MSSQL and PostgreSQL"
   ],
   "metadata": {}
  },
  {
   "cell_type": "code",
   "execution_count": null,
   "source": [
    "sql = '''\n",
    "select top 10 * \n",
    "from [dbo].[''' + table_name + ''']\n",
    "'''\n",
    "print(table_name)\n",
    "data_mssql = sqlio.read_sql_query(sql, conn_mssql)\n",
    "data_mssql"
   ],
   "outputs": [],
   "metadata": {}
  },
  {
   "cell_type": "code",
   "execution_count": null,
   "source": [
    "sql = '''\n",
    "select * \n",
    "FROM ''' + pg_db_name + '''.''' + table_name + '''\n",
    "limit 10\n",
    "'''\n",
    "data2 = sqlio.read_sql_query(sql, conn)\n",
    "data2"
   ],
   "outputs": [],
   "metadata": {}
  }
 ],
 "metadata": {
  "interpreter": {
   "hash": "31f2aee4e71d21fbe5cf8b01ff0e069b9275f58929596ceb00d14d90e3e16cd6"
  },
  "kernelspec": {
   "name": "python3",
   "display_name": "Python 3.6.9 64-bit"
  },
  "language_info": {
   "codemirror_mode": {
    "name": "ipython",
    "version": 3
   },
   "file_extension": ".py",
   "mimetype": "text/x-python",
   "name": "python",
   "nbconvert_exporter": "python",
   "pygments_lexer": "ipython3",
   "version": "3.6.9"
  }
 },
 "nbformat": 4,
 "nbformat_minor": 4
}